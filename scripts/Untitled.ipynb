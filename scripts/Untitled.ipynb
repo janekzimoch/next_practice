{
 "cells": [
  {
   "cell_type": "code",
   "execution_count": 10,
   "id": "02951f68",
   "metadata": {},
   "outputs": [],
   "source": [
    "import pandas as pd\n",
    "import numpy as np\n",
    "import string\n",
    "import random"
   ]
  },
  {
   "cell_type": "code",
   "execution_count": 25,
   "id": "6d739c67",
   "metadata": {},
   "outputs": [],
   "source": [
    "def gen_word(l):\n",
    "    return ''.join(random.choice(string.ascii_uppercase + string.digits) for _ in range(l))\n",
    "# generate simple data\n",
    "np.random.seed(123)\n",
    "size = 100\n",
    "id = np.arange(size).astype(int)\n",
    "name = [gen_word(3) for i in range(100)]\n",
    "surname = [gen_word(5) for i in range(100)]\n",
    "pet = [gen_word(2) for i in range(100)]\n",
    "married = (np.random.rand(size)+0.5).astype(int).astype(bool)"
   ]
  },
  {
   "cell_type": "code",
   "execution_count": 26,
   "id": "24f8c989",
   "metadata": {},
   "outputs": [],
   "source": [
    "df = pd.DataFrame({'id':id, 'name':name, 'surname':surname, 'pet':pet, 'married':married})\n",
    "df.to_csv('./small_dataset.csv', index=False)"
   ]
  },
  {
   "cell_type": "code",
   "execution_count": 27,
   "id": "96a77fef",
   "metadata": {},
   "outputs": [
    {
     "data": {
      "text/plain": [
       "id          int64\n",
       "name       object\n",
       "surname    object\n",
       "pet        object\n",
       "married      bool\n",
       "dtype: object"
      ]
     },
     "execution_count": 27,
     "metadata": {},
     "output_type": "execute_result"
    }
   ],
   "source": [
    "df.dtypes"
   ]
  },
  {
   "cell_type": "code",
   "execution_count": 24,
   "id": "47d2e048",
   "metadata": {},
   "outputs": [
    {
     "data": {
      "text/html": [
       "<div>\n",
       "<style scoped>\n",
       "    .dataframe tbody tr th:only-of-type {\n",
       "        vertical-align: middle;\n",
       "    }\n",
       "\n",
       "    .dataframe tbody tr th {\n",
       "        vertical-align: top;\n",
       "    }\n",
       "\n",
       "    .dataframe thead th {\n",
       "        text-align: right;\n",
       "    }\n",
       "</style>\n",
       "<table border=\"1\" class=\"dataframe\">\n",
       "  <thead>\n",
       "    <tr style=\"text-align: right;\">\n",
       "      <th></th>\n",
       "      <th>id</th>\n",
       "      <th>name</th>\n",
       "      <th>surname</th>\n",
       "      <th>pet</th>\n",
       "      <th>married</th>\n",
       "    </tr>\n",
       "  </thead>\n",
       "  <tbody>\n",
       "    <tr>\n",
       "      <th>0</th>\n",
       "      <td>0</td>\n",
       "      <td>MVU</td>\n",
       "      <td>F5351</td>\n",
       "      <td>L8</td>\n",
       "      <td>True</td>\n",
       "    </tr>\n",
       "    <tr>\n",
       "      <th>1</th>\n",
       "      <td>1</td>\n",
       "      <td>HYT</td>\n",
       "      <td>R7SGZ</td>\n",
       "      <td>BU</td>\n",
       "      <td>False</td>\n",
       "    </tr>\n",
       "    <tr>\n",
       "      <th>2</th>\n",
       "      <td>2</td>\n",
       "      <td>6TR</td>\n",
       "      <td>PG74Y</td>\n",
       "      <td>C8</td>\n",
       "      <td>False</td>\n",
       "    </tr>\n",
       "    <tr>\n",
       "      <th>3</th>\n",
       "      <td>3</td>\n",
       "      <td>LA2</td>\n",
       "      <td>DXQWH</td>\n",
       "      <td>G0</td>\n",
       "      <td>True</td>\n",
       "    </tr>\n",
       "    <tr>\n",
       "      <th>4</th>\n",
       "      <td>4</td>\n",
       "      <td>O5E</td>\n",
       "      <td>M08XL</td>\n",
       "      <td>QU</td>\n",
       "      <td>True</td>\n",
       "    </tr>\n",
       "  </tbody>\n",
       "</table>\n",
       "</div>"
      ],
      "text/plain": [
       "   id name surname pet  married\n",
       "0   0  MVU   F5351  L8     True\n",
       "1   1  HYT   R7SGZ  BU    False\n",
       "2   2  6TR   PG74Y  C8    False\n",
       "3   3  LA2   DXQWH  G0     True\n",
       "4   4  O5E   M08XL  QU     True"
      ]
     },
     "execution_count": 24,
     "metadata": {},
     "output_type": "execute_result"
    }
   ],
   "source": [
    "df.head()"
   ]
  },
  {
   "cell_type": "code",
   "execution_count": null,
   "id": "899a92a6",
   "metadata": {},
   "outputs": [],
   "source": []
  }
 ],
 "metadata": {
  "kernelspec": {
   "display_name": "Python 3 (ipykernel)",
   "language": "python",
   "name": "python3"
  },
  "language_info": {
   "codemirror_mode": {
    "name": "ipython",
    "version": 3
   },
   "file_extension": ".py",
   "mimetype": "text/x-python",
   "name": "python",
   "nbconvert_exporter": "python",
   "pygments_lexer": "ipython3",
   "version": "3.9.6"
  }
 },
 "nbformat": 4,
 "nbformat_minor": 5
}
